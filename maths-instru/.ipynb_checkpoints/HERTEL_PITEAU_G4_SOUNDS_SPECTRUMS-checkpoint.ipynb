{
 "cells": [
  {
   "cell_type": "code",
   "execution_count": 1,
   "metadata": {},
   "outputs": [],
   "source": [
    "# -*- coding: utf-8 -*-"
   ]
  },
  {
   "cell_type": "markdown",
   "metadata": {},
   "source": [
    "## - Mathematical modeling project -\n",
    "##### @SUBJECT: Sounds supervised classification based on sounds spectrograms\n",
    "##### @DATE: Jan. 2020\n",
    "##### @AUTHORS: Hector PITEAU and Lilian HERTEL\n",
    "##### @DATASET: NSynth Train dataset - [go to website](https://magenta.tensorflow.org/datasets/nsynth) (In \"Files\" section, click on: Train [json/wav]) - [direct download link](http://download.magenta.tensorflow.org/datasets/nsynth/nsynth-train.jsonwav.tar.gz) (22.2GB compressed)"
   ]
  },
  {
   "cell_type": "markdown",
   "metadata": {},
   "source": [
    "### -------------------------------------------------------------------------------------------\n",
    "### LIBRARIES"
   ]
  },
  {
   "cell_type": "code",
   "execution_count": 2,
   "metadata": {},
   "outputs": [],
   "source": [
    "import os\n",
    "from scipy import signal\n",
    "from scipy.io import wavfile\n",
    "import matplotlib.pyplot as plot\n",
    "import matplotlib.pyplot as plt\n",
    "import numpy as np\n",
    "import seaborn as sn\n",
    "import pandas as pd\n",
    "from sklearn import preprocessing\n",
    "\n",
    "from sklearn import metrics\n",
    "from sklearn.metrics import accuracy_score\n",
    "from sklearn.tree import DecisionTreeClassifier\n",
    "from sklearn.ensemble import RandomForestClassifier\n",
    "\n",
    "from sklearn.model_selection import train_test_split\n",
    "\n",
    "from datetime import datetime\n",
    "import sys\n",
    "import math"
   ]
  },
  {
   "cell_type": "markdown",
   "metadata": {},
   "source": [
    "### -------------------------------------------------------------------------------------------\n",
    "### CUSTOM PARAMETERS\n",
    "###### You can adjust below: \n",
    "* the directory where the .wav files are located (nsynth-train/audio)\n",
    "* the instruments to work on\n",
    "* the number of samples of each instrument\n",
    "* enable or disable spectrograms normalization\n",
    "* enable or disable spectrograms resizing\n",
    "* the classifier to use (decision tree / random forest)"
   ]
  },
  {
   "cell_type": "code",
   "execution_count": 3,
   "metadata": {},
   "outputs": [],
   "source": [
    "# The directory where the .wav files are located\n",
    "directory = \"../nsynth-train.jsonwav/nsynth-train/audio/\""
   ]
  },
  {
   "cell_type": "code",
   "execution_count": 4,
   "metadata": {},
   "outputs": [],
   "source": [
    "# Instruments we want to work on \n",
    "# (instruments that will be added in yData and spectrumData)\n",
    "# 1 if we want to work on the instrument, 0 otherwise\n",
    "useDict = dict()\n",
    "useDict[\"bass\"] = 1\n",
    "useDict[\"brass\"] = 1\n",
    "useDict[\"flute\"] = 1\n",
    "useDict[\"guitar\"] = 1\n",
    "useDict[\"keyboard\"]= 1\n",
    "useDict[\"mallet\"] = 1\n",
    "useDict[\"organ\"] = 1\n",
    "useDict[\"reed\"]  = 1\n",
    "useDict[\"string\"]  = 1\n",
    "useDict[\"synth\"]  = 1\n",
    "useDict[\"vocal\"] = 1"
   ]
  },
  {
   "cell_type": "code",
   "execution_count": 5,
   "metadata": {},
   "outputs": [],
   "source": [
    "# Number of samples of each instrument we want to work on\n",
    "# Value > 65474 to use all samples\n",
    "countMax = 1000"
   ]
  },
  {
   "cell_type": "code",
   "execution_count": 6,
   "metadata": {},
   "outputs": [],
   "source": [
    "# To normalize the spectrograms (values between 0 and 1)\n",
    "# True or False\n",
    "use_normalization = True"
   ]
  },
  {
   "cell_type": "code",
   "execution_count": 7,
   "metadata": {},
   "outputs": [],
   "source": [
    "# To resize the shape of the spectrograms (divide by 3)\n",
    "# True or False\n",
    "use_resizing = True"
   ]
  },
  {
   "cell_type": "code",
   "execution_count": 8,
   "metadata": {},
   "outputs": [],
   "source": [
    "# Classifier choice:\n",
    "# Choosed classifier should be set to True\n",
    "# First one will be used if more than 1 classifier are set to True\n",
    "use_decision_tree = False\n",
    "use_random_forest = True"
   ]
  },
  {
   "cell_type": "markdown",
   "metadata": {},
   "source": [
    "### -------------------------------------------------------------------------------------------\n",
    "### INITIAL DATA"
   ]
  },
  {
   "cell_type": "code",
   "execution_count": 9,
   "metadata": {},
   "outputs": [],
   "source": [
    "# The array containing our labels data\n",
    "yData = []\n",
    "\n",
    "# The array containing our spectrograms\n",
    "spectrumData = []"
   ]
  },
  {
   "cell_type": "code",
   "execution_count": 10,
   "metadata": {},
   "outputs": [],
   "source": [
    "# Number of samples in the dataset, for each instrument\n",
    "nbDict = dict()\n",
    "nbDict[\"bass\"] = 65474\n",
    "nbDict[\"brass\"] = 12675\n",
    "nbDict[\"flute\"] = 8773\n",
    "nbDict[\"guitar\"] = 32690\n",
    "nbDict[\"keyboard\"]= 51821\n",
    "nbDict[\"mallet\"] = 34201\n",
    "nbDict[\"organ\"] = 34477\n",
    "nbDict[\"reed\"]  = 13911\n",
    "nbDict[\"string\"]  = 19474\n",
    "nbDict[\"synth\"]  = 5501\n",
    "nbDict[\"vocal\"] = 10208"
   ]
  },
  {
   "cell_type": "code",
   "execution_count": 11,
   "metadata": {},
   "outputs": [],
   "source": [
    "# Real number of samples that will be used for each instrument \n",
    "# (because for some instruments we have less samples than countMax)\n",
    "maxDict = dict()\n",
    "maxDict['bass'] = min(countMax, nbDict[\"bass\"]) * useDict[\"bass\"]\n",
    "maxDict['brass']  = min(countMax, nbDict[\"brass\"]) * useDict[\"brass\"]\n",
    "maxDict['flute'] = min(countMax, nbDict[\"flute\"]) * useDict[\"flute\"]\n",
    "maxDict['guitar']  = min(countMax, nbDict[\"guitar\"]) * useDict[\"guitar\"]\n",
    "maxDict['keyboard']  = min(countMax, nbDict[\"keyboard\"]) * useDict[\"keyboard\"]\n",
    "maxDict['mallet'] = min(countMax, nbDict[\"mallet\"]) * useDict[\"mallet\"]\n",
    "maxDict['organ'] = min(countMax, nbDict[\"organ\"]) * useDict[\"organ\"]\n",
    "maxDict['reed']  = min(countMax, nbDict[\"reed\"]) * useDict[\"reed\"]\n",
    "maxDict['string']  = min(countMax, nbDict[\"string\"]) * useDict[\"string\"]\n",
    "maxDict['synth'] = min(countMax, nbDict[\"synth\"]) * useDict[\"synth\"]\n",
    "maxDict['vocal']  = min(countMax, nbDict[\"vocal\"]) * useDict[\"vocal\"]"
   ]
  },
  {
   "cell_type": "code",
   "execution_count": 12,
   "metadata": {},
   "outputs": [],
   "source": [
    "# Counters: number of each instrument that has already been added to yData and spectrumData\n",
    "countDict = dict()\n",
    "countDict['bass'] = 0\n",
    "countDict['brass'] = 0\n",
    "countDict['flute'] = 0\n",
    "countDict['guitar'] = 0\n",
    "countDict['keyboard'] = 0\n",
    "countDict['mallet'] = 0\n",
    "countDict['organ'] = 0\n",
    "countDict['reed'] = 0\n",
    "countDict['string'] = 0\n",
    "countDict['synth'] = 0\n",
    "countDict['vocal'] = 0"
   ]
  },
  {
   "cell_type": "code",
   "execution_count": 13,
   "metadata": {},
   "outputs": [],
   "source": [
    "# Utils: used to display spectrograms computing progression (percent)\n",
    "nbSamplesDone = 0\n",
    "nbSamples = maxDict['bass'] + maxDict['brass'] + maxDict['flute'] + maxDict['guitar'] + maxDict['keyboard'] + maxDict['mallet'] + maxDict['organ'] + maxDict['reed'] + maxDict['string'] + maxDict['synth'] + maxDict['vocal']\n",
    "nbSamplesModulo = math.floor(nbSamples/1000)"
   ]
  },
  {
   "cell_type": "markdown",
   "metadata": {},
   "source": [
    "### -------------------------------------------------------------------------------------------\n",
    "### USEFUL FUNCTIONS"
   ]
  },
  {
   "cell_type": "code",
   "execution_count": 14,
   "metadata": {},
   "outputs": [],
   "source": [
    "# This function reshapes a 2D array: we use it to divide the shape of each spectrogram by 3\n",
    "def resize(arr, new_shape):\n",
    "    \"\"\"Rebin 2D array arr to shape new_shape by averaging.\"\"\"\n",
    "    shape = (new_shape[0], arr.shape[0] // new_shape[0],\n",
    "             new_shape[1], arr.shape[1] // new_shape[1])\n",
    "    return arr.reshape(shape).mean(-1).mean(1)"
   ]
  },
  {
   "cell_type": "code",
   "execution_count": 15,
   "metadata": {},
   "outputs": [],
   "source": [
    "# Prints the given time and message\n",
    "def display_time(time, message):\n",
    "    print(\"\\n\" + message)\n",
    "    print(\"------------------------------\")\n",
    "    print(str(time) + \"\\n\")"
   ]
  },
  {
   "cell_type": "markdown",
   "metadata": {},
   "source": [
    "### -------------------------------------------------------------------------------------------\n",
    "### MAIN CODE"
   ]
  },
  {
   "cell_type": "code",
   "execution_count": 16,
   "metadata": {
    "scrolled": false
   },
   "outputs": [
    {
     "name": "stdout",
     "output_type": "stream",
     "text": [
      "\n",
      "APPLICATION START\n",
      "------------------------------\n",
      "2020-01-12 13:12:23.984809\n",
      "\n",
      "\n",
      "Spectrograms computing -- START\n",
      "------------------------------\n",
      "2020-01-12 13:12:24.453447\n",
      "\n",
      "PROGRESSION: 100.0%\n",
      "\n",
      "\n",
      "Spectrograms computing -- END\n",
      "------------------------------\n",
      "2020-01-12 13:12:51.574183\n",
      "\n",
      "\n",
      "Spectrograms computing -- TIME\n",
      "------------------------------\n",
      "0:00:27.120736\n",
      "\n",
      "\n",
      "Training and testing -- START\n",
      "------------------------------\n",
      "2020-01-12 13:12:51.589806\n",
      "\n",
      "Random forest -- START\n"
     ]
    },
    {
     "name": "stderr",
     "output_type": "stream",
     "text": [
      "C:\\ProgramData\\Anaconda3\\lib\\site-packages\\sklearn\\ensemble\\forest.py:245: FutureWarning: The default value of n_estimators will change from 10 in version 0.20 to 100 in 0.22.\n",
      "  \"10 in version 0.20 to 100 in 0.22.\", FutureWarning)\n"
     ]
    },
    {
     "name": "stdout",
     "output_type": "stream",
     "text": [
      "[3.02128131e-04 6.87314408e-05 1.72346245e-04 ... 4.99426845e-03\n",
      " 0.00000000e+00 4.21049044e-03]\n",
      "Random forest -- END\n",
      "\n",
      "Training and testing -- END\n",
      "------------------------------\n",
      "2020-01-12 13:12:54.492700\n",
      "\n",
      "\n",
      "Training and testing -- TIME\n",
      "------------------------------\n",
      "0:00:02.902894\n",
      "\n",
      "\n",
      "Total -- TIME\n",
      "------------------------------\n",
      "0:00:30.507891\n",
      "\n",
      "******************************\n",
      "CLASSIFICATION ACCURACY:\n",
      "0.980909090909091\n",
      "******************************\n",
      "\n",
      "Confusion matrix:\n"
     ]
    },
    {
     "data": {
      "image/png": "[encoded data removed]",
      "text/plain": [
       "<Figure size 720x720 with 2 Axes>"
      ]
     },
     "metadata": {
      "needs_background": "light"
     },
     "output_type": "display_data"
    }
   ],
   "source": [
    "time_start = datetime.now()\n",
    "display_time(time_start, \"APPLICATION START\")\n",
    "\n",
    "entries = os.listdir(directory)\n",
    "nombreEntries = entries.count\n",
    "\n",
    "time_start_spectrograms = datetime.now()\n",
    "display_time(time_start_spectrograms, \"Spectrograms computing -- START\")\n",
    "\n",
    "sys.stdout.write(\"\\rPROGRESSION: 0%\")\n",
    "sys.stdout.flush()\n",
    "for entry in entries:    \n",
    "    # The sound class, found by trimming the file name before the first \"_\" character\n",
    "    sound_class = entry.split('_')[0]\n",
    "    \n",
    "    # Skips the sound if it shouldn't be used (as defined in PARAMETERS)\n",
    "    if sound_class in countDict:\n",
    "        if (not useDict[sound_class]):\n",
    "            continue\n",
    "        elif (countDict[sound_class] >= maxDict[sound_class]):\n",
    "            continue\n",
    "        else:\n",
    "            countDict[sound_class] += 1\n",
    "            yData.append(sound_class)\n",
    "\n",
    "    nbSamplesDone += 1\n",
    "    if nbSamplesModulo < 1:\n",
    "        nbSamplesModulo = 1\n",
    "    if(nbSamplesDone%(nbSamplesModulo) == 0):\n",
    "        sys.stdout.write(\"\\rPROGRESSION: %.1f%s\" % ((nbSamplesDone/nbSamples)*100, \"%\"))\n",
    "        sys.stdout.flush()        \n",
    "    \n",
    "    samplingFrequency, signalData = wavfile.read(directory + entry)\n",
    "    f, t, Sxx = signal.spectrogram(signalData, samplingFrequency)\n",
    "    if (use_normalization):\n",
    "        Sxx = preprocessing.normalize(Sxx, norm='l2')\n",
    "    if (use_resizing):\n",
    "        Sxx = resize(Sxx, (43,95)) #43, 95 = shape/3\n",
    "    spectrumData.append(Sxx.flatten())\n",
    "    \n",
    "    # Breaks when all spectrograms have been computed\n",
    "    if countDict['bass'] == maxDict['bass'] and countDict['brass'] == maxDict['brass'] and countDict['flute'] == maxDict['flute'] and countDict['guitar'] == maxDict['guitar'] and countDict['keyboard'] == maxDict['keyboard'] and countDict['mallet'] == maxDict['mallet'] and countDict['organ'] == maxDict['organ'] and countDict['reed'] == maxDict['reed'] and countDict['string'] == maxDict['string'] and countDict['synth'] == maxDict['synth'] and countDict['vocal'] == maxDict['vocal']:\n",
    "        break\n",
    "\n",
    "sys.stdout.write(\"\\rPROGRESSION: 100.0%\")\n",
    "sys.stdout.flush()\n",
    "\n",
    "print(\"\\n\")\n",
    "time_end_spectrograms = datetime.now()\n",
    "display_time(time_end_spectrograms, \"Spectrograms computing -- END\");\n",
    "\n",
    "time_interval_spectrograms = time_end_spectrograms - time_start_spectrograms\n",
    "display_time(time_interval_spectrograms, \"Spectrograms computing -- TIME\");\n",
    "\n",
    "Xtrain, Xtest, ytrain, ytest = train_test_split(spectrumData, yData, test_size= 0.2, random_state=0)\n",
    "\n",
    "time_start_training = datetime.now()\n",
    "display_time(time_start_training, \"Training and testing -- START\")\n",
    "\n",
    "if use_decision_tree:\n",
    "    print(\"Decision tree -- START\")\n",
    "    Arbre_decision = DecisionTreeClassifier(random_state=0, max_depth=20)\n",
    "    clf = Arbre_decision.fit(Xtrain, ytrain)\n",
    "    ypredit = clf.predict(Xtest)\n",
    "    print(\"Decision tree -- END\")\n",
    "elif use_random_forest:\n",
    "    print(\"Random forest -- START\")\n",
    "    clf = RandomForestClassifier(max_depth=20, random_state=0)\n",
    "    clf.fit(Xtrain, ytrain)\n",
    "    RandomForestClassifier(max_depth=20, random_state=0)\n",
    "    print(clf.feature_importances_)\n",
    "    ypredit = clf.predict(Xtest)\n",
    "    print(\"Random forest -- END\")\n",
    "else:\n",
    "    display_time(datetime.now(), \"ERROR: Select a model\")\n",
    "\n",
    "time_end_training = datetime.now()\n",
    "display_time(time_end_training, \"Training and testing -- END\")\n",
    "\n",
    "time_interval_training = time_end_training - time_start_training\n",
    "display_time(time_interval_training, \"Training and testing -- TIME\")\n",
    "\n",
    "# Calculates and prints the total time\n",
    "time_interval_total = time_end_training - time_start\n",
    "display_time(time_interval_total, \"Total -- TIME\")\n",
    "\n",
    "if use_decision_tree or use_random_forest:\n",
    "    print(\"******************************\")\n",
    "    print(\"CLASSIFICATION ACCURACY:\")\n",
    "    print(accuracy_score(ytest, ypredit))\n",
    "    print(\"******************************\\n\")\n",
    "    \n",
    "    print(\"Confusion matrix:\")\n",
    "    theLabels = []\n",
    "    for key,val in useDict.items():\n",
    "        if val == 1:\n",
    "            theLabels.append(key)\n",
    "            \n",
    "    array = (metrics.confusion_matrix(ytest, ypredit,labels=theLabels))\n",
    "    leDataFrame = pd.DataFrame(array, index = theLabels,columns = theLabels)\n",
    "    plt.figure(figsize = (10,10))\n",
    "    ax = sn.heatmap(leDataFrame, annot=True,cmap=\"Blues\",square=True,fmt='d')\n",
    "    ax.set_ylim(len(array), -0.5)"
   ]
  }
 ],
 "metadata": {
  "kernelspec": {
   "display_name": "Python 3",
   "language": "python",
   "name": "python3"
  },
  "language_info": {
   "codemirror_mode": {
    "name": "ipython",
    "version": 3
   },
   "file_extension": ".py",
   "mimetype": "text/x-python",
   "name": "python",
   "nbconvert_exporter": "python",
   "pygments_lexer": "ipython3",
   "version": "3.7.4"
  }
 },
 "nbformat": 4,
 "nbformat_minor": 2
}
